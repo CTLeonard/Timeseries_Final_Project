{
 "cells": [
  {
   "cell_type": "code",
   "execution_count": 252,
   "metadata": {
    "collapsed": false
   },
   "outputs": [],
   "source": [
    "import pandas as pd\n",
    "import numpy as np\n",
    "import seaborn as sb\n",
    "import matplotlib.pyplot as plt\n",
    "from hmmlearn import hmm\n",
    "import sklearn as skl\n",
    "%matplotlib inline\n",
    "\n",
    "np.random.seed(5678)"
   ]
  },
  {
   "cell_type": "code",
   "execution_count": null,
   "metadata": {
    "collapsed": true
   },
   "outputs": [],
   "source": [
    "# initial data cleaning\n",
    "# file_path = \"data/2015_Air_quality_in_northern_Taiwan.csv\"\n",
    "# df = pd.read_csv(file_path, parse_dates=[\"time\"],index_col=\"time\")\n",
    "# df.iloc[:,1:] = df.iloc[:,1:].apply(lambda x: pd.to_numeric(x,errors='coerce'),axis=1).copy()\n",
    "# df.to_csv(\"data/2015_removed_marked_data.csv\", index=False)\n",
    "\n",
    "# final data used\n",
    "file_path = \"data/2015_removed_marked_data.csv\"\n",
    "taipai = pd.read_csv(file_path)\n",
    "taipai = taipai.fillna(method='ffill')\n",
    "taipai.head()"
   ]
  },
  {
   "cell_type": "code",
   "execution_count": 254,
   "metadata": {
    "collapsed": true
   },
   "outputs": [],
   "source": [
    "def bin_winds(col,n):\n",
    "    cuts = np.linspace(0, 360, n + 1)\n",
    "    col_binned = pd.cut(col, bins = cuts, labels = False)\n",
    "    return col_binned"
   ]
  },
  {
   "cell_type": "code",
   "execution_count": 255,
   "metadata": {
    "collapsed": false
   },
   "outputs": [],
   "source": [
    "wind_bins = 4\n",
    "taipai['binned_wind'] = bin_winds(taipai.WIND_DIREC, wind_bins)"
   ]
  },
  {
   "cell_type": "markdown",
   "metadata": {},
   "source": [
    "# MARKOV MODELING\n"
   ]
  },
  {
   "cell_type": "code",
   "execution_count": 256,
   "metadata": {
    "collapsed": false
   },
   "outputs": [
    {
     "data": {
      "text/plain": [
       "array(['Banqiao', 'Cailiao', 'Datong', 'Dayuan', 'Guanyin', 'Guting',\n",
       "       'Keelung', 'Linkou', 'Longtan', 'Pingzhen', 'Sanchong', 'Shilin',\n",
       "       'Songshan', 'Tamsui', 'Taoyuan', 'Tucheng', 'Wanhua', 'Wanli',\n",
       "       'Xindian', 'Xinzhuang', 'Xizhi', 'Yangming', 'Yonghe', 'Zhongli',\n",
       "       'Zhongshan'], dtype=object)"
      ]
     },
     "execution_count": 256,
     "metadata": {},
     "output_type": "execute_result"
    }
   ],
   "source": [
    "taipai.station.unique()"
   ]
  },
  {
   "cell_type": "markdown",
   "metadata": {},
   "source": [
    "### Selection of 4 wind directions"
   ]
  },
  {
   "cell_type": "code",
   "execution_count": 257,
   "metadata": {
    "collapsed": false
   },
   "outputs": [
    {
     "data": {
      "text/plain": [
       "array([ 1.,  0.,  3.,  2.])"
      ]
     },
     "execution_count": 257,
     "metadata": {},
     "output_type": "execute_result"
    }
   ],
   "source": [
    "songshan = taipai.loc[taipai.station == \"Zhongshan\"]\n",
    "songshan.binned_wind.unique()"
   ]
  },
  {
   "cell_type": "markdown",
   "metadata": {},
   "source": [
    "Subset to a smaller sample of the columns"
   ]
  },
  {
   "cell_type": "code",
   "execution_count": 258,
   "metadata": {
    "collapsed": false
   },
   "outputs": [
    {
     "data": {
      "text/html": [
       "<div>\n",
       "<table border=\"1\" class=\"dataframe\">\n",
       "  <thead>\n",
       "    <tr style=\"text-align: right;\">\n",
       "      <th></th>\n",
       "      <th>NO</th>\n",
       "      <th>SO2</th>\n",
       "      <th>O3</th>\n",
       "      <th>NO2</th>\n",
       "      <th>NOx</th>\n",
       "      <th>binned_wind</th>\n",
       "    </tr>\n",
       "  </thead>\n",
       "  <tbody>\n",
       "    <tr>\n",
       "      <th>209904</th>\n",
       "      <td>2.8</td>\n",
       "      <td>11.0</td>\n",
       "      <td>33.0</td>\n",
       "      <td>22.0</td>\n",
       "      <td>25.0</td>\n",
       "      <td>1.0</td>\n",
       "    </tr>\n",
       "    <tr>\n",
       "      <th>209905</th>\n",
       "      <td>3.2</td>\n",
       "      <td>7.5</td>\n",
       "      <td>31.0</td>\n",
       "      <td>23.0</td>\n",
       "      <td>26.0</td>\n",
       "      <td>1.0</td>\n",
       "    </tr>\n",
       "    <tr>\n",
       "      <th>209906</th>\n",
       "      <td>1.6</td>\n",
       "      <td>6.1</td>\n",
       "      <td>35.0</td>\n",
       "      <td>19.0</td>\n",
       "      <td>20.0</td>\n",
       "      <td>0.0</td>\n",
       "    </tr>\n",
       "    <tr>\n",
       "      <th>209907</th>\n",
       "      <td>2.0</td>\n",
       "      <td>4.9</td>\n",
       "      <td>36.0</td>\n",
       "      <td>14.0</td>\n",
       "      <td>16.0</td>\n",
       "      <td>0.0</td>\n",
       "    </tr>\n",
       "    <tr>\n",
       "      <th>209908</th>\n",
       "      <td>1.8</td>\n",
       "      <td>4.1</td>\n",
       "      <td>36.0</td>\n",
       "      <td>12.0</td>\n",
       "      <td>14.0</td>\n",
       "      <td>0.0</td>\n",
       "    </tr>\n",
       "  </tbody>\n",
       "</table>\n",
       "</div>"
      ],
      "text/plain": [
       "         NO   SO2    O3   NO2   NOx  binned_wind\n",
       "209904  2.8  11.0  33.0  22.0  25.0          1.0\n",
       "209905  3.2   7.5  31.0  23.0  26.0          1.0\n",
       "209906  1.6   6.1  35.0  19.0  20.0          0.0\n",
       "209907  2.0   4.9  36.0  14.0  16.0          0.0\n",
       "209908  1.8   4.1  36.0  12.0  14.0          0.0"
      ]
     },
     "execution_count": 258,
     "metadata": {},
     "output_type": "execute_result"
    }
   ],
   "source": [
    "#sample_list = [\"NO\",\"SO2\",\"O3\",\"CH4\", \"NO2\", \"NOx\", \"binned_wind\"]\n",
    "sample_list = [\"NO\",\"SO2\",\"O3\",\"NO2\",\"NOx\",\"binned_wind\"] \n",
    "subset_songshan = songshan[sample_list]\n",
    "subset_songshan.head()"
   ]
  },
  {
   "cell_type": "code",
   "execution_count": 259,
   "metadata": {
    "collapsed": false
   },
   "outputs": [],
   "source": [
    "# fig, axes = plt.subplots(figsize = (10,10))\n",
    "# subset_songshan.CH4.plot(ax = axes)"
   ]
  },
  {
   "cell_type": "markdown",
   "metadata": {},
   "source": [
    "### Create the parameters for a markov model"
   ]
  },
  {
   "cell_type": "code",
   "execution_count": 260,
   "metadata": {
    "collapsed": true
   },
   "outputs": [],
   "source": [
    "def compute_wind_trans(bin_col):\n",
    "    \"\"\"\n",
    "    Computes the transition matrix for the winds states; necessary for the MM\n",
    "    \n",
    "    Arguments\n",
    "    ---------\n",
    "    bin_col -- binned wind column; id as 0 indexed integers\n",
    "    \"\"\"\n",
    "    # matrix of state transitions\n",
    "    n = len(bin_col.unique())\n",
    "    transition = np.ones((n,n)) \n",
    "    for i, j in zip(bin_col[:-1], bin_col[1:]):\n",
    "        transition[int(i), int(j)] += 1\n",
    "\n",
    "    # row normalize transition matrix\n",
    "    row_sum = transition.sum(axis=1)\n",
    "\n",
    "    return transition / row_sum[:, np.newaxis]\n",
    "\n",
    "def compute_state_means(df, bin_col):\n",
    "    \"\"\"\n",
    "    Compute an array of state means for each of the states; return a matrix of n states by m obserables\n",
    "    \"\"\"\n",
    "    n, m = len(df[bin_col].unique()), df.shape[1] - 1\n",
    "    mean_matrix = np.zeros((n,m))\n",
    "    \n",
    "    for s in np.sort(df[bin_col].unique()):\n",
    "        mean_matrix[int(s),:] = df.loc[df[bin_col] == s, df.columns != bin_col].mean(axis=0)\n",
    "        \n",
    "    return mean_matrix\n",
    "\n",
    "def split_train_test(df, p_train):\n",
    "    \"\"\"\n",
    "    Splits our df into train test...scikit probably has this\n",
    "    \"\"\"\n",
    "    i_test = int(df.shape[0] * p_train)\n",
    "    train, test = df.iloc[:i_test,:], df.iloc[i_test:,:]\n",
    "    return train, test\n",
    "\n",
    "def compute_covar(df, bin_col):\n",
    "    \"\"\"\n",
    "    Compute covariance matrices for each time\n",
    "    \"\"\"\n",
    "    n, m = len(df[bin_col].unique()), df.shape[1] - 1\n",
    "    cov_mat = np.zeros((n, m))\n",
    "    \n",
    "    for s in np.sort(df[bin_col].unique()):\n",
    "        cov_mat[int(s), :] = df.loc[df[bin_col] == s, df.columns != bin_col].var().values\n",
    "\n",
    "    return cov_mat\n",
    "\n",
    "def normalize_cols(col):\n",
    "    \"\"\"\n",
    "    Function to apply columnwise to z-normalize the column\n",
    "    \"\"\"\n",
    "    col_mean = np.mean(col)\n",
    "    col_std = np.std(col)\n",
    "    return (col - col_mean) / col_std\n",
    "\n",
    "def confussion_matrx(test, seq):\n",
    "    \"\"\"\n",
    "    Computes the confusion matrix for a given test run\n",
    "    \"\"\"\n",
    "    n = len(test.unique())\n",
    "    conf_mat = np.zeros((n,n))\n",
    "    for i, j in zip(seq, test):\n",
    "        conf_mat[int(i), int(j)] += 1\n",
    "\n",
    "    return conf_mat\n",
    "\n",
    "def compute_covar_full(df, bin_col):\n",
    "    \"\"\"\n",
    "    Compute covariance matrices for each time\n",
    "    \"\"\"\n",
    "    n, m = len(df[bin_col].unique()), df.shape[1] - 1\n",
    "    cov_mat = np.zeros((n,m,m))\n",
    "    \n",
    "    for s in np.sort(df[bin_col].unique()):\n",
    "        cov_mat[int(s),:,:] = df.loc[df[bin_col] == s, df.columns != bin_col].cov().values\n",
    "\n",
    "    return cov_mat"
   ]
  },
  {
   "cell_type": "markdown",
   "metadata": {},
   "source": [
    "# TRAINING THE MODEL\n",
    "First we shall split into training and test\n",
    "An attempt was made to use PCA as a way to find better parameterization.  "
   ]
  },
  {
   "cell_type": "code",
   "execution_count": 261,
   "metadata": {
    "collapsed": false
   },
   "outputs": [],
   "source": [
    "train, test = split_train_test(subset_songshan, 0.5)\n",
    "\n",
    "# pca = skl.decomposition.PCA()\n",
    "\n",
    "# pca.fit(train.loc[:,train.columns != \"binned_wind\"])\n",
    "\n",
    "# train.loc[:,train.columns != \"binned_wind\"] = pca.transform(train.loc[:,train.columns != \"binned_wind\"])\n",
    "\n",
    "# pca.fit(test.loc[:,train.columns != \"binned_wind\"])\n",
    "\n",
    "# test.loc[:,test.columns != \"binned_wind\"] = pca.transform(test.loc[:,test.columns != \"binned_wind\"])\n"
   ]
  },
  {
   "cell_type": "markdown",
   "metadata": {},
   "source": [
    "Now we'll use the train set to compute transition probabilities and compute state means"
   ]
  },
  {
   "cell_type": "code",
   "execution_count": 262,
   "metadata": {
    "collapsed": false
   },
   "outputs": [],
   "source": [
    "tran_mat = compute_wind_trans(train.binned_wind)\n",
    "wind_means = compute_state_means(train, \"binned_wind\")\n",
    "wind_cov = compute_covar(train, \"binned_wind\")"
   ]
  },
  {
   "cell_type": "markdown",
   "metadata": {},
   "source": [
    "Now it's time to start the model"
   ]
  },
  {
   "cell_type": "code",
   "execution_count": 263,
   "metadata": {
    "collapsed": false
   },
   "outputs": [],
   "source": [
    "%%capture\n",
    "model = hmm.GaussianHMM(n_components = tran_mat.shape[0], covariance_type=\"diag\")\n",
    "model.startprob_ = np.ones(tran_mat.shape[0]) / tran_mat.shape[0]\n",
    "model.transmat_ = tran_mat\n",
    "model.means_ = wind_means\n",
    "model.covars_ = wind_cov\n",
    "ay, sseq = model.sample(100)"
   ]
  },
  {
   "cell_type": "code",
   "execution_count": 264,
   "metadata": {
    "collapsed": false
   },
   "outputs": [
    {
     "data": {
      "text/plain": [
       "<matplotlib.axes._subplots.AxesSubplot at 0x228ac042710>"
      ]
     },
     "execution_count": 264,
     "metadata": {},
     "output_type": "execute_result"
    },
    {
     "data": {
      "image/png": "[encoded data removed]",
      "text/plain": [
       "<matplotlib.figure.Figure at 0x228ab0aa8d0>"
      ]
     },
     "metadata": {},
     "output_type": "display_data"
    }
   ],
   "source": [
    "sb.countplot(sseq)"
   ]
  },
  {
   "cell_type": "code",
   "execution_count": 265,
   "metadata": {
    "collapsed": false,
    "scrolled": true
   },
   "outputs": [
    {
     "data": {
      "text/plain": [
       "<matplotlib.axes._subplots.AxesSubplot at 0x228a5b99ef0>"
      ]
     },
     "execution_count": 265,
     "metadata": {},
     "output_type": "execute_result"
    },
    {
     "data": {
      "image/png": "[encoded data removed]",
      "text/plain": [
       "<matplotlib.figure.Figure at 0x228a5d98a58>"
      ]
     },
     "metadata": {},
     "output_type": "display_data"
    }
   ],
   "source": [
    "sb.countplot(train.binned_wind)"
   ]
  },
  {
   "cell_type": "code",
   "execution_count": 266,
   "metadata": {
    "collapsed": false
   },
   "outputs": [
    {
     "name": "stderr",
     "output_type": "stream",
     "text": [
      "C:\\Users\\Chris\\Anaconda3\\lib\\site-packages\\sklearn\\utils\\deprecation.py:75: DeprecationWarning: Function log_multivariate_normal_density is deprecated; The function log_multivariate_normal_density is deprecated in 0.18 and will be removed in 0.20.\n",
      "  warnings.warn(msg, category=DeprecationWarning)\n"
     ]
    }
   ],
   "source": [
    "logprob, seqs = model.decode(test.loc[:,test.columns != \"binned_wind\"])"
   ]
  },
  {
   "cell_type": "code",
   "execution_count": 267,
   "metadata": {
    "collapsed": false
   },
   "outputs": [
    {
     "data": {
      "text/plain": [
       "<matplotlib.axes._subplots.AxesSubplot at 0x228a4fe9828>"
      ]
     },
     "execution_count": 267,
     "metadata": {},
     "output_type": "execute_result"
    },
    {
     "data": {
      "image/png": "[encoded data removed]",
      "text/plain": [
       "<matplotlib.figure.Figure at 0x228a5775438>"
      ]
     },
     "metadata": {},
     "output_type": "display_data"
    }
   ],
   "source": [
    "sb.countplot(seqs)"
   ]
  },
  {
   "cell_type": "code",
   "execution_count": 268,
   "metadata": {
    "collapsed": false
   },
   "outputs": [
    {
     "name": "stdout",
     "output_type": "stream",
     "text": [
      "You've gotten a prediction accuracy of: 0.7152014652014652\n"
     ]
    }
   ],
   "source": [
    "score = sum(seqs == test.binned_wind)/len(seqs)\n",
    "print(\"You've gotten a prediction accuracy of: {}\".format(score))"
   ]
  },
  {
   "cell_type": "markdown",
   "metadata": {},
   "source": [
    "## Attempts at Improving Accuracy \n",
    "We're trying z normalizing"
   ]
  },
  {
   "cell_type": "code",
   "execution_count": 269,
   "metadata": {
    "collapsed": true
   },
   "outputs": [],
   "source": [
    "subset_songshan_z = subset_songshan.loc[:, subset_songshan.columns != \"binned_wind\"].apply(normalize_cols, axis=0)\n",
    "subset_songshan_z[\"binned_wind\"] = subset_songshan.binned_wind"
   ]
  },
  {
   "cell_type": "markdown",
   "metadata": {},
   "source": [
    "Now to markov again"
   ]
  },
  {
   "cell_type": "code",
   "execution_count": 270,
   "metadata": {
    "collapsed": false
   },
   "outputs": [
    {
     "name": "stdout",
     "output_type": "stream",
     "text": [
      "You've gotten a prediction accuracy of: 0.7152014652014652\n"
     ]
    },
    {
     "name": "stderr",
     "output_type": "stream",
     "text": [
      "C:\\Users\\Chris\\Anaconda3\\lib\\site-packages\\sklearn\\utils\\deprecation.py:75: DeprecationWarning: Function log_multivariate_normal_density is deprecated; The function log_multivariate_normal_density is deprecated in 0.18 and will be removed in 0.20.\n",
      "  warnings.warn(msg, category=DeprecationWarning)\n"
     ]
    }
   ],
   "source": [
    "# get splits\n",
    "train, test = split_train_test(subset_songshan_z, 0.5)\n",
    "\n",
    "# compute model parameters\n",
    "tran_mat = compute_wind_trans(train.binned_wind)\n",
    "wind_means = compute_state_means(train, \"binned_wind\")\n",
    "wind_cov = compute_covar(train, \"binned_wind\")\n",
    "\n",
    "# create model\n",
    "model = hmm.GaussianHMM(n_components = tran_mat.shape[0], covariance_type=\"diag\")\n",
    "model.startprob_ = np.ones(tran_mat.shape[0]) / tran_mat.shape[0]\n",
    "model.transmat_ = tran_mat\n",
    "model.means_ = wind_means\n",
    "model.covars_ = wind_cov\n",
    "\n",
    "# evaluate on test data and score\n",
    "logprob, seqs = model.decode(test.loc[:,test.columns != \"binned_wind\"])\n",
    "score = sum(seqs == test.binned_wind)/len(seqs)\n",
    "print(\"You've gotten a prediction accuracy of: {}\".format(score))"
   ]
  },
  {
   "cell_type": "markdown",
   "metadata": {},
   "source": [
    "...it didn't work..."
   ]
  },
  {
   "cell_type": "code",
   "execution_count": 271,
   "metadata": {
    "collapsed": false
   },
   "outputs": [
    {
     "data": {
      "text/plain": [
       "<matplotlib.image.AxesImage at 0x228ac8f2a58>"
      ]
     },
     "execution_count": 271,
     "metadata": {},
     "output_type": "execute_result"
    },
    {
     "data": {
      "image/png": "[encoded data removed]",
      "text/plain": [
       "<matplotlib.figure.Figure at 0x228ac8a0438>"
      ]
     },
     "metadata": {},
     "output_type": "display_data"
    }
   ],
   "source": [
    "conf = confussion_matrx(test.binned_wind, seqs)\n",
    "conf.shape\n",
    "plt.imshow(conf, cmap=\"Greys\", interpolation=\"nearest\")"
   ]
  },
  {
   "cell_type": "markdown",
   "metadata": {},
   "source": [
    "# LET'S GET AUTOMATED!"
   ]
  },
  {
   "cell_type": "code",
   "execution_count": 272,
   "metadata": {
    "collapsed": false
   },
   "outputs": [],
   "source": [
    "def fit_and_test_markov_model(taipai, station, sample_list, train_p = 0.5, full=False):\n",
    "    \"\"\"\n",
    "    Create a markov model and test its predictions; produces score and confusion matrix\n",
    "    \"\"\"\n",
    "    df_station = taipai.loc[taipai.station == station]\n",
    "    subset_station = df_station[sample_list]\n",
    "\n",
    "    # get splits\n",
    "    train, test = split_train_test(subset_station, train_p)\n",
    "\n",
    "    # compute model parameters\n",
    "    tran_mat = compute_wind_trans(train.binned_wind)\n",
    "    wind_means = compute_state_means(train, \"binned_wind\")\n",
    "    \n",
    "    if not full:\n",
    "        wind_cov = compute_covar(train, \"binned_wind\")\n",
    "        cov_type = \"diag\"\n",
    "    else:\n",
    "        wind_cov = compute_covar_full(train, \"binned_wind\")\n",
    "        cov_type = \"full\"\n",
    "\n",
    "    # create model\n",
    "    model = hmm.GaussianHMM(n_components = tran_mat.shape[0], covariance_type=cov_type)\n",
    "    model.startprob_ = np.ones(tran_mat.shape[0]) / tran_mat.shape[0]\n",
    "    model.transmat_ = tran_mat\n",
    "    model.means_ = wind_means\n",
    "    model.covars_ = wind_cov\n",
    "\n",
    "    # evaluate on test data and score\n",
    "    logprob, seqs = model.decode(test.loc[:,test.columns != \"binned_wind\"])\n",
    "    score = sum(seqs == test.binned_wind)/len(seqs)\n",
    "    conf_matrix = confussion_matrx(test.binned_wind, seqs)\n",
    "    return score, conf_matrix"
   ]
  },
  {
   "cell_type": "code",
   "execution_count": 273,
   "metadata": {
    "collapsed": false
   },
   "outputs": [],
   "source": [
    "%%capture\n",
    "stations = []\n",
    "scores = []\n",
    "conf_matrices = []\n",
    "problem = []\n",
    "for s in taipai.station.unique():\n",
    "    if len(taipai.loc[taipai.station == s].binned_wind.unique()) < wind_bins:\n",
    "        problem.append(s)\n",
    "        continue\n",
    "        \n",
    "    try:\n",
    "        score, conf = fit_and_test_markov_model(taipai, s, sample_list)\n",
    "        scores.append(score)\n",
    "        conf_matrices.append(conf)\n",
    "        stations.append(s)\n",
    "\n",
    "    except ValueError as e:\n",
    "        problem.append(s)\n",
    "        "
   ]
  },
  {
   "cell_type": "code",
   "execution_count": 274,
   "metadata": {
    "collapsed": false
   },
   "outputs": [
    {
     "data": {
      "image/png": "[encoded data removed]",
      "text/plain": [
       "<matplotlib.figure.Figure at 0x228ac9578d0>"
      ]
     },
     "metadata": {},
     "output_type": "display_data"
    }
   ],
   "source": [
    "fig, axes = plt.subplots(ncols=4, nrows=4, figsize=(15, 15))\n",
    "\n",
    "i = 0\n",
    "for row in axes:\n",
    "    for ax in row:\n",
    "        ax.imshow(conf_matrices[i], cmap=\"Greys\", interpolation=\"nearest\")\n",
    "        ax.set_title(\"{}: {}\".format(stations[i], round(scores[i], 2)))\n",
    "        i += 1"
   ]
  },
  {
   "cell_type": "code",
   "execution_count": 275,
   "metadata": {
    "collapsed": false
   },
   "outputs": [],
   "source": [
    "%%capture\n",
    "stations = []\n",
    "scores = []\n",
    "conf_matrices = []\n",
    "problem = []\n",
    "for s in taipai.station.unique():\n",
    "    if len(taipai.loc[taipai.station == s].binned_wind.unique()) < wind_bins:\n",
    "        problem.append(s)\n",
    "        continue\n",
    "        \n",
    "    try:\n",
    "        score, conf = fit_and_test_markov_model(taipai, s, sample_list, full=True)\n",
    "        scores.append(score)\n",
    "        conf_matrices.append(conf)\n",
    "        stations.append(s)\n",
    "\n",
    "    except ValueError as e:\n",
    "        problem.append(s)\n",
    "        "
   ]
  },
  {
   "cell_type": "code",
   "execution_count": 276,
   "metadata": {
    "collapsed": false
   },
   "outputs": [
    {
     "data": {
      "text/plain": [
       "17"
      ]
     },
     "execution_count": 276,
     "metadata": {},
     "output_type": "execute_result"
    }
   ],
   "source": [
    "len(stations)"
   ]
  },
  {
   "cell_type": "code",
   "execution_count": 277,
   "metadata": {
    "collapsed": false
   },
   "outputs": [
    {
     "data": {
      "image/png": "[encoded data removed]",
      "text/plain": [
       "<matplotlib.figure.Figure at 0x228b30d5eb8>"
      ]
     },
     "metadata": {},
     "output_type": "display_data"
    }
   ],
   "source": [
    "fig, axes = plt.subplots(ncols=4, nrows=4, figsize=(15, 15))\n",
    "\n",
    "i = 0\n",
    "                         \n",
    "for row in axes:\n",
    "    for ax in row:\n",
    "        ax.imshow(conf_matrices[i], cmap=\"Greys\", interpolation=\"nearest\")\n",
    "        ax.set_title(\"{}: {}\".format(stations[i], round(scores[i], 2)))\n",
    "        i += 1"
   ]
  },
  {
   "cell_type": "markdown",
   "metadata": {},
   "source": [
    "Tide covariance for tomorrow.  \n",
    "\n"
   ]
  },
  {
   "cell_type": "markdown",
   "metadata": {},
   "source": [
    "## PCA Testing"
   ]
  }
 ],
 "metadata": {
  "kernelspec": {
   "display_name": "Python [Root]",
   "language": "python",
   "name": "Python [Root]"
  },
  "language_info": {
   "codemirror_mode": {
    "name": "ipython",
    "version": 3
   },
   "file_extension": ".py",
   "mimetype": "text/x-python",
   "name": "python",
   "nbconvert_exporter": "python",
   "pygments_lexer": "ipython3",
   "version": "3.5.2"
  }
 },
 "nbformat": 4,
 "nbformat_minor": 2
}
