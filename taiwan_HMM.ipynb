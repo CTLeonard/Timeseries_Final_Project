{
 "cells": [
  {
   "cell_type": "code",
   "execution_count": 1,
   "metadata": {
    "collapsed": false
   },
   "outputs": [],
   "source": [
    "import pandas as pd\n",
    "import numpy as np\n",
    "import seaborn as sb\n",
    "import matplotlib.pyplot as plt\n",
    "from hmmlearn import hmm\n",
    "import sklearn as skl\n",
    "%matplotlib inline\n",
    "\n",
    "np.random.seed(5678)"
   ]
  },
  {
   "cell_type": "code",
   "execution_count": 2,
   "metadata": {
    "collapsed": false
   },
   "outputs": [
    {
     "data": {
      "text/html": [
       "<div>\n",
       "<table border=\"1\" class=\"dataframe\">\n",
       "  <thead>\n",
       "    <tr style=\"text-align: right;\">\n",
       "      <th></th>\n",
       "      <th>station</th>\n",
       "      <th>AMB_TEMP</th>\n",
       "      <th>CH4</th>\n",
       "      <th>CO</th>\n",
       "      <th>NMHC</th>\n",
       "      <th>NO</th>\n",
       "      <th>NO2</th>\n",
       "      <th>NOx</th>\n",
       "      <th>O3</th>\n",
       "      <th>PH_RAIN</th>\n",
       "      <th>...</th>\n",
       "      <th>RAINFALL</th>\n",
       "      <th>RAIN_COND</th>\n",
       "      <th>RH</th>\n",
       "      <th>SO2</th>\n",
       "      <th>THC</th>\n",
       "      <th>UVB</th>\n",
       "      <th>WD_HR</th>\n",
       "      <th>WIND_DIREC</th>\n",
       "      <th>WIND_SPEED</th>\n",
       "      <th>WS_HR</th>\n",
       "    </tr>\n",
       "  </thead>\n",
       "  <tbody>\n",
       "    <tr>\n",
       "      <th>0</th>\n",
       "      <td>Banqiao</td>\n",
       "      <td>16.0</td>\n",
       "      <td>2.1</td>\n",
       "      <td>0.79</td>\n",
       "      <td>0.14</td>\n",
       "      <td>1.2</td>\n",
       "      <td>16.0</td>\n",
       "      <td>17.0</td>\n",
       "      <td>37.0</td>\n",
       "      <td>NaN</td>\n",
       "      <td>...</td>\n",
       "      <td>NaN</td>\n",
       "      <td>NaN</td>\n",
       "      <td>57.0</td>\n",
       "      <td>12.0</td>\n",
       "      <td>2.2</td>\n",
       "      <td>0.0</td>\n",
       "      <td>69.0</td>\n",
       "      <td>69.0</td>\n",
       "      <td>4.7</td>\n",
       "      <td>4.2</td>\n",
       "    </tr>\n",
       "    <tr>\n",
       "      <th>1</th>\n",
       "      <td>Banqiao</td>\n",
       "      <td>16.0</td>\n",
       "      <td>2.1</td>\n",
       "      <td>0.80</td>\n",
       "      <td>0.15</td>\n",
       "      <td>1.3</td>\n",
       "      <td>16.0</td>\n",
       "      <td>17.0</td>\n",
       "      <td>36.0</td>\n",
       "      <td>NaN</td>\n",
       "      <td>...</td>\n",
       "      <td>NaN</td>\n",
       "      <td>NaN</td>\n",
       "      <td>57.0</td>\n",
       "      <td>11.0</td>\n",
       "      <td>2.2</td>\n",
       "      <td>0.0</td>\n",
       "      <td>67.0</td>\n",
       "      <td>65.0</td>\n",
       "      <td>4.0</td>\n",
       "      <td>4.0</td>\n",
       "    </tr>\n",
       "    <tr>\n",
       "      <th>2</th>\n",
       "      <td>Banqiao</td>\n",
       "      <td>16.0</td>\n",
       "      <td>2.1</td>\n",
       "      <td>0.71</td>\n",
       "      <td>0.13</td>\n",
       "      <td>1.0</td>\n",
       "      <td>13.0</td>\n",
       "      <td>14.0</td>\n",
       "      <td>38.0</td>\n",
       "      <td>NaN</td>\n",
       "      <td>...</td>\n",
       "      <td>NaN</td>\n",
       "      <td>NaN</td>\n",
       "      <td>57.0</td>\n",
       "      <td>8.0</td>\n",
       "      <td>2.2</td>\n",
       "      <td>0.0</td>\n",
       "      <td>63.0</td>\n",
       "      <td>53.0</td>\n",
       "      <td>3.7</td>\n",
       "      <td>3.5</td>\n",
       "    </tr>\n",
       "    <tr>\n",
       "      <th>3</th>\n",
       "      <td>Banqiao</td>\n",
       "      <td>15.0</td>\n",
       "      <td>2.0</td>\n",
       "      <td>0.66</td>\n",
       "      <td>0.12</td>\n",
       "      <td>0.8</td>\n",
       "      <td>11.0</td>\n",
       "      <td>12.0</td>\n",
       "      <td>39.0</td>\n",
       "      <td>NaN</td>\n",
       "      <td>...</td>\n",
       "      <td>NaN</td>\n",
       "      <td>NaN</td>\n",
       "      <td>58.0</td>\n",
       "      <td>6.5</td>\n",
       "      <td>2.2</td>\n",
       "      <td>0.0</td>\n",
       "      <td>63.0</td>\n",
       "      <td>63.0</td>\n",
       "      <td>4.1</td>\n",
       "      <td>3.3</td>\n",
       "    </tr>\n",
       "    <tr>\n",
       "      <th>4</th>\n",
       "      <td>Banqiao</td>\n",
       "      <td>15.0</td>\n",
       "      <td>2.0</td>\n",
       "      <td>0.53</td>\n",
       "      <td>0.11</td>\n",
       "      <td>0.6</td>\n",
       "      <td>10.0</td>\n",
       "      <td>11.0</td>\n",
       "      <td>38.0</td>\n",
       "      <td>NaN</td>\n",
       "      <td>...</td>\n",
       "      <td>NaN</td>\n",
       "      <td>NaN</td>\n",
       "      <td>58.0</td>\n",
       "      <td>5.5</td>\n",
       "      <td>2.1</td>\n",
       "      <td>0.0</td>\n",
       "      <td>69.0</td>\n",
       "      <td>67.0</td>\n",
       "      <td>3.0</td>\n",
       "      <td>3.1</td>\n",
       "    </tr>\n",
       "  </tbody>\n",
       "</table>\n",
       "<p>5 rows × 22 columns</p>\n",
       "</div>"
      ],
      "text/plain": [
       "   station  AMB_TEMP  CH4    CO  NMHC   NO   NO2   NOx    O3  PH_RAIN  ...    \\\n",
       "0  Banqiao      16.0  2.1  0.79  0.14  1.2  16.0  17.0  37.0      NaN  ...     \n",
       "1  Banqiao      16.0  2.1  0.80  0.15  1.3  16.0  17.0  36.0      NaN  ...     \n",
       "2  Banqiao      16.0  2.1  0.71  0.13  1.0  13.0  14.0  38.0      NaN  ...     \n",
       "3  Banqiao      15.0  2.0  0.66  0.12  0.8  11.0  12.0  39.0      NaN  ...     \n",
       "4  Banqiao      15.0  2.0  0.53  0.11  0.6  10.0  11.0  38.0      NaN  ...     \n",
       "\n",
       "   RAINFALL  RAIN_COND    RH   SO2  THC  UVB  WD_HR  WIND_DIREC  WIND_SPEED  \\\n",
       "0       NaN        NaN  57.0  12.0  2.2  0.0   69.0        69.0         4.7   \n",
       "1       NaN        NaN  57.0  11.0  2.2  0.0   67.0        65.0         4.0   \n",
       "2       NaN        NaN  57.0   8.0  2.2  0.0   63.0        53.0         3.7   \n",
       "3       NaN        NaN  58.0   6.5  2.2  0.0   63.0        63.0         4.1   \n",
       "4       NaN        NaN  58.0   5.5  2.1  0.0   69.0        67.0         3.0   \n",
       "\n",
       "   WS_HR  \n",
       "0    4.2  \n",
       "1    4.0  \n",
       "2    3.5  \n",
       "3    3.3  \n",
       "4    3.1  \n",
       "\n",
       "[5 rows x 22 columns]"
      ]
     },
     "execution_count": 2,
     "metadata": {},
     "output_type": "execute_result"
    }
   ],
   "source": [
    "# initial data cleaning\n",
    "# file_path = \"data/2015_Air_quality_in_northern_Taiwan.csv\"\n",
    "# df = pd.read_csv(file_path, parse_dates=[\"time\"],index_col=\"time\")\n",
    "# df.iloc[:,1:] = df.iloc[:,1:].apply(lambda x: pd.to_numeric(x,errors='coerce'),axis=1).copy()\n",
    "# df.to_csv(\"data/2015_removed_marked_data.csv\", index=False)\n",
    "\n",
    "# final data used\n",
    "file_path = \"data/2015_removed_marked_data.csv\"\n",
    "taipai = pd.read_csv(file_path)\n",
    "taipai = taipai.fillna(method='ffill')\n",
    "taipai.head()"
   ]
  },
  {
   "cell_type": "code",
   "execution_count": 3,
   "metadata": {
    "collapsed": true
   },
   "outputs": [],
   "source": [
    "def bin_winds(col,n):\n",
    "    cuts = np.linspace(0, 360, n + 1)\n",
    "    col_binned = pd.cut(col, bins = cuts, labels = False)\n",
    "    return col_binned"
   ]
  },
  {
   "cell_type": "code",
   "execution_count": 4,
   "metadata": {
    "collapsed": false
   },
   "outputs": [],
   "source": [
    "wind_bins = 4\n",
    "taipai['binned_wind'] = bin_winds(taipai.WIND_DIREC, wind_bins)"
   ]
  },
  {
   "cell_type": "markdown",
   "metadata": {},
   "source": [
    "# MARKOV MODELS!?!?!?! :D\n",
    "Now we're going to move to one station and attempt to fit a nice little markov model...delicious"
   ]
  },
  {
   "cell_type": "code",
   "execution_count": 5,
   "metadata": {
    "collapsed": false
   },
   "outputs": [
    {
     "data": {
      "text/plain": [
       "array(['Banqiao', 'Cailiao', 'Datong', 'Dayuan', 'Guanyin', 'Guting',\n",
       "       'Keelung', 'Linkou', 'Longtan', 'Pingzhen', 'Sanchong', 'Shilin',\n",
       "       'Songshan', 'Tamsui', 'Taoyuan', 'Tucheng', 'Wanhua', 'Wanli',\n",
       "       'Xindian', 'Xinzhuang', 'Xizhi', 'Yangming', 'Yonghe', 'Zhongli',\n",
       "       'Zhongshan'], dtype=object)"
      ]
     },
     "execution_count": 5,
     "metadata": {},
     "output_type": "execute_result"
    }
   ],
   "source": [
    "taipai.station.unique()"
   ]
  },
  {
   "cell_type": "code",
   "execution_count": 6,
   "metadata": {
    "collapsed": false
   },
   "outputs": [
    {
     "data": {
      "text/plain": [
       "array([ 1.,  0.,  3.,  2.])"
      ]
     },
     "execution_count": 6,
     "metadata": {},
     "output_type": "execute_result"
    }
   ],
   "source": [
    "songshan = taipai.loc[taipai.station == \"Zhongshan\"]\n",
    "songshan.binned_wind.unique()"
   ]
  },
  {
   "cell_type": "markdown",
   "metadata": {},
   "source": [
    "Subset to a smaller sample of the columns"
   ]
  },
  {
   "cell_type": "code",
   "execution_count": 7,
   "metadata": {
    "collapsed": false
   },
   "outputs": [
    {
     "data": {
      "text/html": [
       "<div>\n",
       "<table border=\"1\" class=\"dataframe\">\n",
       "  <thead>\n",
       "    <tr style=\"text-align: right;\">\n",
       "      <th></th>\n",
       "      <th>NO</th>\n",
       "      <th>SO2</th>\n",
       "      <th>O3</th>\n",
       "      <th>CH4</th>\n",
       "      <th>NO2</th>\n",
       "      <th>NOx</th>\n",
       "      <th>binned_wind</th>\n",
       "    </tr>\n",
       "  </thead>\n",
       "  <tbody>\n",
       "    <tr>\n",
       "      <th>209904</th>\n",
       "      <td>2.8</td>\n",
       "      <td>11.0</td>\n",
       "      <td>33.0</td>\n",
       "      <td>2.0</td>\n",
       "      <td>22.0</td>\n",
       "      <td>25.0</td>\n",
       "      <td>1.0</td>\n",
       "    </tr>\n",
       "    <tr>\n",
       "      <th>209905</th>\n",
       "      <td>3.2</td>\n",
       "      <td>7.5</td>\n",
       "      <td>31.0</td>\n",
       "      <td>2.0</td>\n",
       "      <td>23.0</td>\n",
       "      <td>26.0</td>\n",
       "      <td>1.0</td>\n",
       "    </tr>\n",
       "    <tr>\n",
       "      <th>209906</th>\n",
       "      <td>1.6</td>\n",
       "      <td>6.1</td>\n",
       "      <td>35.0</td>\n",
       "      <td>2.0</td>\n",
       "      <td>19.0</td>\n",
       "      <td>20.0</td>\n",
       "      <td>0.0</td>\n",
       "    </tr>\n",
       "    <tr>\n",
       "      <th>209907</th>\n",
       "      <td>2.0</td>\n",
       "      <td>4.9</td>\n",
       "      <td>36.0</td>\n",
       "      <td>2.0</td>\n",
       "      <td>14.0</td>\n",
       "      <td>16.0</td>\n",
       "      <td>0.0</td>\n",
       "    </tr>\n",
       "    <tr>\n",
       "      <th>209908</th>\n",
       "      <td>1.8</td>\n",
       "      <td>4.1</td>\n",
       "      <td>36.0</td>\n",
       "      <td>2.0</td>\n",
       "      <td>12.0</td>\n",
       "      <td>14.0</td>\n",
       "      <td>0.0</td>\n",
       "    </tr>\n",
       "  </tbody>\n",
       "</table>\n",
       "</div>"
      ],
      "text/plain": [
       "         NO   SO2    O3  CH4   NO2   NOx  binned_wind\n",
       "209904  2.8  11.0  33.0  2.0  22.0  25.0          1.0\n",
       "209905  3.2   7.5  31.0  2.0  23.0  26.0          1.0\n",
       "209906  1.6   6.1  35.0  2.0  19.0  20.0          0.0\n",
       "209907  2.0   4.9  36.0  2.0  14.0  16.0          0.0\n",
       "209908  1.8   4.1  36.0  2.0  12.0  14.0          0.0"
      ]
     },
     "execution_count": 7,
     "metadata": {},
     "output_type": "execute_result"
    }
   ],
   "source": [
    "sample_list = [\"NO\",\"SO2\",\"O3\",\"CH4\", \"NO2\", \"NOx\", \"binned_wind\"]\n",
    "subset_songshan = songshan[sample_list]\n",
    "subset_songshan.head()"
   ]
  },
  {
   "cell_type": "markdown",
   "metadata": {},
   "source": [
    "Create the parameters for a markov model"
   ]
  },
  {
   "cell_type": "code",
   "execution_count": 8,
   "metadata": {
    "collapsed": true
   },
   "outputs": [],
   "source": [
    "def compute_wind_trans(bin_col):\n",
    "    \"\"\"\n",
    "    Computes the transition matrix for the winds states; necessary for the MM\n",
    "    \n",
    "    Arguments\n",
    "    ---------\n",
    "    bin_col -- binned wind column; id as 0 indexed integers\n",
    "    \"\"\"\n",
    "    # matrix of state transitions\n",
    "    n = len(bin_col.unique())\n",
    "    transition = np.ones((n,n))\n",
    "    for i, j in zip(bin_col[:-1], bin_col[1:]):\n",
    "        transition[int(i), int(j)] += 1\n",
    "\n",
    "    # row normalize transition matrix\n",
    "    row_sum = transition.sum(axis=1)\n",
    "\n",
    "    return transition / row_sum[:, np.newaxis]\n",
    "\n",
    "def compute_state_means(df, bin_col):\n",
    "    \"\"\"\n",
    "    Compute an array of state means for each of the states; return a matrix of n states by m obserables\n",
    "    \"\"\"\n",
    "    n, m = len(df[bin_col].unique()), df.shape[1] - 1\n",
    "    mean_matrix = np.zeros((n,m))\n",
    "    \n",
    "    for s in np.sort(df[bin_col].unique()):\n",
    "        mean_matrix[int(s),:] = df.loc[df[bin_col] == s, df.columns != bin_col].mean(axis=0)\n",
    "        \n",
    "    return mean_matrix\n",
    "\n",
    "def split_train_test(df, p_train):\n",
    "    \"\"\"\n",
    "    Splits our df into train test...scikit probably has this\n",
    "    \"\"\"\n",
    "    i_test = int(df.shape[0] * p_train)\n",
    "    train, test = df.iloc[:i_test,:], df.iloc[i_test:,:]\n",
    "    return train, test\n",
    "\n",
    "def compute_covar(df, bin_col):\n",
    "    \"\"\"\n",
    "    Compute covariance matrices for each time\n",
    "    \"\"\"\n",
    "    n, m = len(df[bin_col].unique()), df.shape[1] - 1\n",
    "    cov_mat = np.zeros((n, m))\n",
    "    \n",
    "    for s in np.sort(df[bin_col].unique()):\n",
    "        cov_mat[int(s), :] = df.loc[df[bin_col] == s, df.columns != bin_col].var().values\n",
    "\n",
    "    return cov_mat\n",
    "\n",
    "def normalize_cols(col):\n",
    "    \"\"\"\n",
    "    Function to apply columnwise to z-normalize the column\n",
    "    \"\"\"\n",
    "    col_mean = np.mean(col)\n",
    "    col_std = np.std(col)\n",
    "    return (col - col_mean) / col_std\n",
    "\n",
    "def confussion_matrx(test, seq):\n",
    "    \"\"\"\n",
    "    Computes the confusion matrix for a given test run\n",
    "    \"\"\"\n",
    "    n = len(test.unique())\n",
    "    conf_mat = np.zeros((n,n))\n",
    "    for i, j in zip(seq, test):\n",
    "        conf_mat[int(i), int(j)] += 1\n",
    "\n",
    "    return conf_mat\n",
    "\n",
    "def compute_covar_full(df, bin_col):\n",
    "    \"\"\"\n",
    "    Compute covariance matrices for each time\n",
    "    \"\"\"\n",
    "    n, m = len(df[bin_col].unique()), df.shape[1] - 1\n",
    "    cov_mat = np.zeros((n,m,m))\n",
    "    \n",
    "    for s in np.sort(df[bin_col].unique()):\n",
    "        cov_mat[int(s),:,:] = df.loc[df[bin_col] == s, df.columns != bin_col].cov().values\n",
    "\n",
    "    return cov_mat"
   ]
  },
  {
   "cell_type": "markdown",
   "metadata": {},
   "source": [
    "# LETS TRAIN\n",
    "First we shall split into training and test"
   ]
  },
  {
   "cell_type": "code",
   "execution_count": 9,
   "metadata": {
    "collapsed": false
   },
   "outputs": [],
   "source": [
    "train, test = split_train_test(subset_songshan, 0.5)"
   ]
  },
  {
   "cell_type": "markdown",
   "metadata": {},
   "source": [
    "Now we'll use the train set to compute transition probabilities and compute state means"
   ]
  },
  {
   "cell_type": "code",
   "execution_count": 10,
   "metadata": {
    "collapsed": true
   },
   "outputs": [],
   "source": [
    "tran_mat = compute_wind_trans(train.binned_wind)\n",
    "wind_means = compute_state_means(train, \"binned_wind\")\n",
    "wind_cov = compute_covar(train, \"binned_wind\")"
   ]
  },
  {
   "cell_type": "markdown",
   "metadata": {},
   "source": [
    "Now it's time to start the model"
   ]
  },
  {
   "cell_type": "code",
   "execution_count": 11,
   "metadata": {
    "collapsed": false
   },
   "outputs": [],
   "source": [
    "%%capture\n",
    "model = hmm.GaussianHMM(n_components = tran_mat.shape[0], covariance_type=\"diag\")\n",
    "model.startprob_ = np.ones(tran_mat.shape[0]) / tran_mat.shape[0]\n",
    "model.transmat_ = tran_mat\n",
    "model.means_ = wind_means\n",
    "model.covars_ = wind_cov\n",
    "ay, sseq = model.sample(100)"
   ]
  },
  {
   "cell_type": "code",
   "execution_count": 12,
   "metadata": {
    "collapsed": false
   },
   "outputs": [
    {
     "data": {
      "text/plain": [
       "<matplotlib.axes._subplots.AxesSubplot at 0x160f1e2ca58>"
      ]
     },
     "execution_count": 12,
     "metadata": {},
     "output_type": "execute_result"
    },
    {
     "data": {
      "image/png": "[encoded data removed]",
      "text/plain": [
       "<matplotlib.figure.Figure at 0x160f1dffd30>"
      ]
     },
     "metadata": {},
     "output_type": "display_data"
    }
   ],
   "source": [
    "sb.countplot(sseq)"
   ]
  },
  {
   "cell_type": "code",
   "execution_count": 13,
   "metadata": {
    "collapsed": false,
    "scrolled": true
   },
   "outputs": [
    {
     "data": {
      "text/plain": [
       "<matplotlib.axes._subplots.AxesSubplot at 0x160f23c3c18>"
      ]
     },
     "execution_count": 13,
     "metadata": {},
     "output_type": "execute_result"
    },
    {
     "data": {
      "image/png": "[encoded data removed]",
      "text/plain": [
       "<matplotlib.figure.Figure at 0x160f2386e80>"
      ]
     },
     "metadata": {},
     "output_type": "display_data"
    }
   ],
   "source": [
    "sb.countplot(train.binned_wind)"
   ]
  },
  {
   "cell_type": "code",
   "execution_count": 14,
   "metadata": {
    "collapsed": false
   },
   "outputs": [
    {
     "name": "stderr",
     "output_type": "stream",
     "text": [
      "C:\\Users\\Chris\\Anaconda3\\lib\\site-packages\\sklearn\\utils\\deprecation.py:75: DeprecationWarning: Function log_multivariate_normal_density is deprecated; The function log_multivariate_normal_density is deprecated in 0.18 and will be removed in 0.20.\n",
      "  warnings.warn(msg, category=DeprecationWarning)\n"
     ]
    }
   ],
   "source": [
    "logprob, seqs = model.decode(test.loc[:,test.columns != \"binned_wind\"])"
   ]
  },
  {
   "cell_type": "code",
   "execution_count": 15,
   "metadata": {
    "collapsed": false
   },
   "outputs": [
    {
     "data": {
      "text/plain": [
       "<matplotlib.axes._subplots.AxesSubplot at 0x160f24222b0>"
      ]
     },
     "execution_count": 15,
     "metadata": {},
     "output_type": "execute_result"
    },
    {
     "data": {
      "image/png": "[encoded data removed]",
      "text/plain": [
       "<matplotlib.figure.Figure at 0x160f247d550>"
      ]
     },
     "metadata": {},
     "output_type": "display_data"
    }
   ],
   "source": [
    "sb.countplot(seqs)"
   ]
  },
  {
   "cell_type": "code",
   "execution_count": 16,
   "metadata": {
    "collapsed": false
   },
   "outputs": [
    {
     "name": "stdout",
     "output_type": "stream",
     "text": [
      "You've gotten a prediction accuracy of: 0.7211538461538461\n"
     ]
    }
   ],
   "source": [
    "score = sum(seqs == test.binned_wind)/len(seqs)\n",
    "print(\"You've gotten a prediction accuracy of: {}\".format(score))"
   ]
  },
  {
   "cell_type": "markdown",
   "metadata": {},
   "source": [
    "# Attempt to Squeeze Out More\n",
    "We're trying z normalizing"
   ]
  },
  {
   "cell_type": "code",
   "execution_count": 17,
   "metadata": {
    "collapsed": true
   },
   "outputs": [],
   "source": [
    "subset_songshan_z = subset_songshan.loc[:, subset_songshan.columns != \"binned_wind\"].apply(normalize_cols, axis=0)\n",
    "subset_songshan_z[\"binned_wind\"] = subset_songshan.binned_wind"
   ]
  },
  {
   "cell_type": "markdown",
   "metadata": {},
   "source": [
    "Now to markov again"
   ]
  },
  {
   "cell_type": "code",
   "execution_count": 18,
   "metadata": {
    "collapsed": false
   },
   "outputs": [
    {
     "name": "stdout",
     "output_type": "stream",
     "text": [
      "You've gotten a prediction accuracy of: 0.7211538461538461\n"
     ]
    },
    {
     "name": "stderr",
     "output_type": "stream",
     "text": [
      "C:\\Users\\Chris\\Anaconda3\\lib\\site-packages\\sklearn\\utils\\deprecation.py:75: DeprecationWarning: Function log_multivariate_normal_density is deprecated; The function log_multivariate_normal_density is deprecated in 0.18 and will be removed in 0.20.\n",
      "  warnings.warn(msg, category=DeprecationWarning)\n"
     ]
    }
   ],
   "source": [
    "# get splits\n",
    "train, test = split_train_test(subset_songshan_z, 0.5)\n",
    "\n",
    "# compute model parameters\n",
    "tran_mat = compute_wind_trans(train.binned_wind)\n",
    "wind_means = compute_state_means(train, \"binned_wind\")\n",
    "wind_cov = compute_covar(train, \"binned_wind\")\n",
    "\n",
    "# create model\n",
    "model = hmm.GaussianHMM(n_components = tran_mat.shape[0], covariance_type=\"diag\")\n",
    "model.startprob_ = np.ones(tran_mat.shape[0]) / tran_mat.shape[0]\n",
    "model.transmat_ = tran_mat\n",
    "model.means_ = wind_means\n",
    "model.covars_ = wind_cov\n",
    "\n",
    "# evaluate on test data and score\n",
    "logprob, seqs = model.decode(test.loc[:,test.columns != \"binned_wind\"])\n",
    "score = sum(seqs == test.binned_wind)/len(seqs)\n",
    "print(\"You've gotten a prediction accuracy of: {}\".format(score))"
   ]
  },
  {
   "cell_type": "markdown",
   "metadata": {},
   "source": [
    "...it didn't work..."
   ]
  },
  {
   "cell_type": "code",
   "execution_count": 19,
   "metadata": {
    "collapsed": false
   },
   "outputs": [
    {
     "data": {
      "text/plain": [
       "<matplotlib.image.AxesImage at 0x160f253f438>"
      ]
     },
     "execution_count": 19,
     "metadata": {},
     "output_type": "execute_result"
    },
    {
     "data": {
      "image/png": "[encoded data removed]",
      "text/plain": [
       "<matplotlib.figure.Figure at 0x160e6b5cac8>"
      ]
     },
     "metadata": {},
     "output_type": "display_data"
    }
   ],
   "source": [
    "conf = confussion_matrx(test.binned_wind, seqs)\n",
    "conf.shape\n",
    "plt.imshow(conf, cmap=\"Greys\", interpolation=\"nearest\")"
   ]
  },
  {
   "cell_type": "markdown",
   "metadata": {},
   "source": [
    "# LET'S GET AUTOMATED!"
   ]
  },
  {
   "cell_type": "code",
   "execution_count": 27,
   "metadata": {
    "collapsed": false
   },
   "outputs": [],
   "source": [
    "def fit_and_test_markov_model(taipai, station, sample_list, train_p = 0.5, full=False):\n",
    "    \"\"\"\n",
    "    Create a markov model and test its predictions; produces score and confusion matrix\n",
    "    \"\"\"\n",
    "    df_station = taipai.loc[taipai.station == station]\n",
    "    subset_station = df_station[sample_list]\n",
    "\n",
    "    # get splits\n",
    "    train, test = split_train_test(subset_station, train_p)\n",
    "\n",
    "    # compute model parameters\n",
    "    tran_mat = compute_wind_trans(train.binned_wind)\n",
    "    wind_means = compute_state_means(train, \"binned_wind\")\n",
    "    \n",
    "    if not full:\n",
    "        wind_cov = compute_covar(train, \"binned_wind\")\n",
    "        cov_type = \"diag\"\n",
    "    else:\n",
    "        wind_cov = compute_covar_full(train, \"binned_wind\")\n",
    "        cov_type = \"full\"\n",
    "\n",
    "    # create model\n",
    "    model = hmm.GaussianHMM(n_components = tran_mat.shape[0], covariance_type=cov_type)\n",
    "    model.startprob_ = np.ones(tran_mat.shape[0]) / tran_mat.shape[0]\n",
    "    model.transmat_ = tran_mat\n",
    "    model.means_ = wind_means\n",
    "    model.covars_ = wind_cov\n",
    "\n",
    "    # evaluate on test data and score\n",
    "    logprob, seqs = model.decode(test.loc[:,test.columns != \"binned_wind\"])\n",
    "    score = sum(seqs == test.binned_wind)/len(seqs)\n",
    "    conf_matrix = confussion_matrx(test.binned_wind, seqs)\n",
    "    return score, conf_matrix"
   ]
  },
  {
   "cell_type": "code",
   "execution_count": 25,
   "metadata": {
    "collapsed": false
   },
   "outputs": [],
   "source": [
    "%%capture\n",
    "stations = []\n",
    "scores = []\n",
    "conf_matrices = []\n",
    "problem = []\n",
    "for s in taipai.station.unique():\n",
    "    if len(taipai.loc[taipai.station == s].binned_wind.unique()) < wind_bins:\n",
    "        problem.append(s)\n",
    "        continue\n",
    "        \n",
    "    try:\n",
    "        score, conf = fit_and_test_markov_model(taipai, s, sample_list)\n",
    "        scores.append(score)\n",
    "        conf_matrices.append(conf)\n",
    "        stations.append(s)\n",
    "\n",
    "    except ValueError as e:\n",
    "        problem.append(s)\n",
    "        "
   ]
  },
  {
   "cell_type": "code",
   "execution_count": 23,
   "metadata": {
    "collapsed": false
   },
   "outputs": [
    {
     "data": {
      "image/png": "[encoded data removed]",
      "text/plain": [
       "<matplotlib.figure.Figure at 0x160f24ed588>"
      ]
     },
     "metadata": {},
     "output_type": "display_data"
    }
   ],
   "source": [
    "fig, axes = plt.subplots(ncols=4, nrows=4, figsize=(15, 15))\n",
    "\n",
    "i = 0\n",
    "for row in axes:\n",
    "    for ax in row:\n",
    "        ax.imshow(conf_matrices[i], cmap=\"Greys\", interpolation=\"nearest\")\n",
    "        ax.set_title(\"{}: {}\".format(stations[i], round(scores[i], 2)))\n",
    "        i += 1"
   ]
  },
  {
   "cell_type": "code",
   "execution_count": 31,
   "metadata": {
    "collapsed": false
   },
   "outputs": [],
   "source": [
    "%%capture\n",
    "stations = []\n",
    "scores = []\n",
    "conf_matrices = []\n",
    "problem = []\n",
    "for s in taipai.station.unique():\n",
    "    if len(taipai.loc[taipai.station == s].binned_wind.unique()) < wind_bins:\n",
    "        problem.append(s)\n",
    "        continue\n",
    "        \n",
    "    try:\n",
    "        score, conf = fit_and_test_markov_model(taipai, s, sample_list, full=True)\n",
    "        scores.append(score)\n",
    "        conf_matrices.append(conf)\n",
    "        stations.append(s)\n",
    "\n",
    "    except ValueError as e:\n",
    "        problem.append(s)\n",
    "        "
   ]
  },
  {
   "cell_type": "code",
   "execution_count": 32,
   "metadata": {
    "collapsed": false
   },
   "outputs": [
    {
     "data": {
      "text/plain": [
       "7"
      ]
     },
     "execution_count": 32,
     "metadata": {},
     "output_type": "execute_result"
    }
   ],
   "source": [
    "len(stations)"
   ]
  },
  {
   "cell_type": "code",
   "execution_count": 35,
   "metadata": {
    "collapsed": false
   },
   "outputs": [
    {
     "ename": "IndexError",
     "evalue": "list index out of range",
     "output_type": "error",
     "traceback": [
      "\u001b[1;31m---------------------------------------------------------------------------\u001b[0m",
      "\u001b[1;31mIndexError\u001b[0m                                Traceback (most recent call last)",
      "\u001b[1;32m<ipython-input-35-e520bc0aa8b0>\u001b[0m in \u001b[0;36m<module>\u001b[1;34m()\u001b[0m\n\u001b[0;32m      5\u001b[0m \u001b[1;32mfor\u001b[0m \u001b[0mrow\u001b[0m \u001b[1;32min\u001b[0m \u001b[0maxes\u001b[0m\u001b[1;33m:\u001b[0m\u001b[1;33m\u001b[0m\u001b[0m\n\u001b[0;32m      6\u001b[0m     \u001b[1;32mfor\u001b[0m \u001b[0max\u001b[0m \u001b[1;32min\u001b[0m \u001b[0mrow\u001b[0m\u001b[1;33m:\u001b[0m\u001b[1;33m\u001b[0m\u001b[0m\n\u001b[1;32m----> 7\u001b[1;33m         \u001b[0max\u001b[0m\u001b[1;33m.\u001b[0m\u001b[0mimshow\u001b[0m\u001b[1;33m(\u001b[0m\u001b[0mconf_matrices\u001b[0m\u001b[1;33m[\u001b[0m\u001b[0mi\u001b[0m\u001b[1;33m]\u001b[0m\u001b[1;33m,\u001b[0m \u001b[0mcmap\u001b[0m\u001b[1;33m=\u001b[0m\u001b[1;34m\"Greys\"\u001b[0m\u001b[1;33m,\u001b[0m \u001b[0minterpolation\u001b[0m\u001b[1;33m=\u001b[0m\u001b[1;34m\"nearest\"\u001b[0m\u001b[1;33m)\u001b[0m\u001b[1;33m\u001b[0m\u001b[0m\n\u001b[0m\u001b[0;32m      8\u001b[0m         \u001b[0max\u001b[0m\u001b[1;33m.\u001b[0m\u001b[0mset_title\u001b[0m\u001b[1;33m(\u001b[0m\u001b[1;34m\"{}: {}\"\u001b[0m\u001b[1;33m.\u001b[0m\u001b[0mformat\u001b[0m\u001b[1;33m(\u001b[0m\u001b[0mstations\u001b[0m\u001b[1;33m[\u001b[0m\u001b[0mi\u001b[0m\u001b[1;33m]\u001b[0m\u001b[1;33m,\u001b[0m \u001b[0mround\u001b[0m\u001b[1;33m(\u001b[0m\u001b[0mscores\u001b[0m\u001b[1;33m[\u001b[0m\u001b[0mi\u001b[0m\u001b[1;33m]\u001b[0m\u001b[1;33m,\u001b[0m \u001b[1;36m2\u001b[0m\u001b[1;33m)\u001b[0m\u001b[1;33m)\u001b[0m\u001b[1;33m)\u001b[0m\u001b[1;33m\u001b[0m\u001b[0m\n\u001b[0;32m      9\u001b[0m         \u001b[0mi\u001b[0m \u001b[1;33m+=\u001b[0m \u001b[1;36m1\u001b[0m\u001b[1;33m\u001b[0m\u001b[0m\n",
      "\u001b[1;31mIndexError\u001b[0m: list index out of range"
     ]
    },
    {
     "data": {
      "image/png": "[encoded data removed]",
      "text/plain": [
       "<matplotlib.figure.Figure at 0x160f2ea06a0>"
      ]
     },
     "metadata": {},
     "output_type": "display_data"
    }
   ],
   "source": [
    "fig, axes = plt.subplots(ncols=3, nrows=3, figsize=(15, 15))\n",
    "\n",
    "i = 0\n",
    "                         \n",
    "for row in axes:\n",
    "    for ax in row:\n",
    "        ax.imshow(conf_matrices[i], cmap=\"Greys\", interpolation=\"nearest\")\n",
    "        ax.set_title(\"{}: {}\".format(stations[i], round(scores[i], 2)))\n",
    "        i += 1"
   ]
  },
  {
   "cell_type": "markdown",
   "metadata": {},
   "source": [
    "Tide covariance for tomorrow.  \n",
    "\n"
   ]
  }
 ],
 "metadata": {
  "kernelspec": {
   "display_name": "Python [Root]",
   "language": "python",
   "name": "Python [Root]"
  },
  "language_info": {
   "codemirror_mode": {
    "name": "ipython",
    "version": 3
   },
   "file_extension": ".py",
   "mimetype": "text/x-python",
   "name": "python",
   "nbconvert_exporter": "python",
   "pygments_lexer": "ipython3",
   "version": "3.5.2"
  }
 },
 "nbformat": 4,
 "nbformat_minor": 2
}
