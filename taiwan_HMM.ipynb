{
 "cells": [
  {
   "cell_type": "code",
   "execution_count": 1,
   "metadata": {
    "collapsed": true
   },
   "outputs": [],
   "source": [
    "import hmmlearn\n",
    "import pandas as pd\n",
    "import numpy as np\n",
    "import seaborn as sb\n",
    "import matplotlib.pyplot as plt\n",
    "\n",
    "%matplotlib inline"
   ]
  },
  {
   "cell_type": "code",
   "execution_count": 2,
   "metadata": {
    "collapsed": false
   },
   "outputs": [
    {
     "data": {
      "text/html": [
       "<div>\n",
       "<table border=\"1\" class=\"dataframe\">\n",
       "  <thead>\n",
       "    <tr style=\"text-align: right;\">\n",
       "      <th></th>\n",
       "      <th>station</th>\n",
       "      <th>AMB_TEMP</th>\n",
       "      <th>CH4</th>\n",
       "      <th>CO</th>\n",
       "      <th>NMHC</th>\n",
       "      <th>NO</th>\n",
       "      <th>NO2</th>\n",
       "      <th>NOx</th>\n",
       "      <th>O3</th>\n",
       "      <th>PH_RAIN</th>\n",
       "      <th>...</th>\n",
       "      <th>RAINFALL</th>\n",
       "      <th>RAIN_COND</th>\n",
       "      <th>RH</th>\n",
       "      <th>SO2</th>\n",
       "      <th>THC</th>\n",
       "      <th>UVB</th>\n",
       "      <th>WD_HR</th>\n",
       "      <th>WIND_DIREC</th>\n",
       "      <th>WIND_SPEED</th>\n",
       "      <th>WS_HR</th>\n",
       "    </tr>\n",
       "  </thead>\n",
       "  <tbody>\n",
       "    <tr>\n",
       "      <th>0</th>\n",
       "      <td>Banqiao</td>\n",
       "      <td>16.0</td>\n",
       "      <td>2.1</td>\n",
       "      <td>0.79</td>\n",
       "      <td>0.14</td>\n",
       "      <td>1.2</td>\n",
       "      <td>16.0</td>\n",
       "      <td>17.0</td>\n",
       "      <td>37.0</td>\n",
       "      <td>NaN</td>\n",
       "      <td>...</td>\n",
       "      <td>NaN</td>\n",
       "      <td>NaN</td>\n",
       "      <td>57.0</td>\n",
       "      <td>12.0</td>\n",
       "      <td>2.2</td>\n",
       "      <td>0.0</td>\n",
       "      <td>69.0</td>\n",
       "      <td>69.0</td>\n",
       "      <td>4.7</td>\n",
       "      <td>4.2</td>\n",
       "    </tr>\n",
       "    <tr>\n",
       "      <th>1</th>\n",
       "      <td>Banqiao</td>\n",
       "      <td>16.0</td>\n",
       "      <td>2.1</td>\n",
       "      <td>0.80</td>\n",
       "      <td>0.15</td>\n",
       "      <td>1.3</td>\n",
       "      <td>16.0</td>\n",
       "      <td>17.0</td>\n",
       "      <td>36.0</td>\n",
       "      <td>NaN</td>\n",
       "      <td>...</td>\n",
       "      <td>NaN</td>\n",
       "      <td>NaN</td>\n",
       "      <td>57.0</td>\n",
       "      <td>11.0</td>\n",
       "      <td>2.2</td>\n",
       "      <td>0.0</td>\n",
       "      <td>67.0</td>\n",
       "      <td>65.0</td>\n",
       "      <td>4.0</td>\n",
       "      <td>4.0</td>\n",
       "    </tr>\n",
       "    <tr>\n",
       "      <th>2</th>\n",
       "      <td>Banqiao</td>\n",
       "      <td>16.0</td>\n",
       "      <td>2.1</td>\n",
       "      <td>0.71</td>\n",
       "      <td>0.13</td>\n",
       "      <td>1.0</td>\n",
       "      <td>13.0</td>\n",
       "      <td>14.0</td>\n",
       "      <td>38.0</td>\n",
       "      <td>NaN</td>\n",
       "      <td>...</td>\n",
       "      <td>NaN</td>\n",
       "      <td>NaN</td>\n",
       "      <td>57.0</td>\n",
       "      <td>8.0</td>\n",
       "      <td>2.2</td>\n",
       "      <td>0.0</td>\n",
       "      <td>63.0</td>\n",
       "      <td>53.0</td>\n",
       "      <td>3.7</td>\n",
       "      <td>3.5</td>\n",
       "    </tr>\n",
       "    <tr>\n",
       "      <th>3</th>\n",
       "      <td>Banqiao</td>\n",
       "      <td>15.0</td>\n",
       "      <td>2.0</td>\n",
       "      <td>0.66</td>\n",
       "      <td>0.12</td>\n",
       "      <td>0.8</td>\n",
       "      <td>11.0</td>\n",
       "      <td>12.0</td>\n",
       "      <td>39.0</td>\n",
       "      <td>NaN</td>\n",
       "      <td>...</td>\n",
       "      <td>NaN</td>\n",
       "      <td>NaN</td>\n",
       "      <td>58.0</td>\n",
       "      <td>6.5</td>\n",
       "      <td>2.2</td>\n",
       "      <td>0.0</td>\n",
       "      <td>63.0</td>\n",
       "      <td>63.0</td>\n",
       "      <td>4.1</td>\n",
       "      <td>3.3</td>\n",
       "    </tr>\n",
       "    <tr>\n",
       "      <th>4</th>\n",
       "      <td>Banqiao</td>\n",
       "      <td>15.0</td>\n",
       "      <td>2.0</td>\n",
       "      <td>0.53</td>\n",
       "      <td>0.11</td>\n",
       "      <td>0.6</td>\n",
       "      <td>10.0</td>\n",
       "      <td>11.0</td>\n",
       "      <td>38.0</td>\n",
       "      <td>NaN</td>\n",
       "      <td>...</td>\n",
       "      <td>NaN</td>\n",
       "      <td>NaN</td>\n",
       "      <td>58.0</td>\n",
       "      <td>5.5</td>\n",
       "      <td>2.1</td>\n",
       "      <td>0.0</td>\n",
       "      <td>69.0</td>\n",
       "      <td>67.0</td>\n",
       "      <td>3.0</td>\n",
       "      <td>3.1</td>\n",
       "    </tr>\n",
       "  </tbody>\n",
       "</table>\n",
       "<p>5 rows × 22 columns</p>\n",
       "</div>"
      ],
      "text/plain": [
       "   station  AMB_TEMP  CH4    CO  NMHC   NO   NO2   NOx    O3  PH_RAIN  ...    \\\n",
       "0  Banqiao      16.0  2.1  0.79  0.14  1.2  16.0  17.0  37.0      NaN  ...     \n",
       "1  Banqiao      16.0  2.1  0.80  0.15  1.3  16.0  17.0  36.0      NaN  ...     \n",
       "2  Banqiao      16.0  2.1  0.71  0.13  1.0  13.0  14.0  38.0      NaN  ...     \n",
       "3  Banqiao      15.0  2.0  0.66  0.12  0.8  11.0  12.0  39.0      NaN  ...     \n",
       "4  Banqiao      15.0  2.0  0.53  0.11  0.6  10.0  11.0  38.0      NaN  ...     \n",
       "\n",
       "   RAINFALL  RAIN_COND    RH   SO2  THC  UVB  WD_HR  WIND_DIREC  WIND_SPEED  \\\n",
       "0       NaN        NaN  57.0  12.0  2.2  0.0   69.0        69.0         4.7   \n",
       "1       NaN        NaN  57.0  11.0  2.2  0.0   67.0        65.0         4.0   \n",
       "2       NaN        NaN  57.0   8.0  2.2  0.0   63.0        53.0         3.7   \n",
       "3       NaN        NaN  58.0   6.5  2.2  0.0   63.0        63.0         4.1   \n",
       "4       NaN        NaN  58.0   5.5  2.1  0.0   69.0        67.0         3.0   \n",
       "\n",
       "   WS_HR  \n",
       "0    4.2  \n",
       "1    4.0  \n",
       "2    3.5  \n",
       "3    3.3  \n",
       "4    3.1  \n",
       "\n",
       "[5 rows x 22 columns]"
      ]
     },
     "execution_count": 2,
     "metadata": {},
     "output_type": "execute_result"
    }
   ],
   "source": [
    "# initial data cleaning\n",
    "# file_path = \"data/2015_Air_quality_in_northern_Taiwan.csv\"\n",
    "# df = pd.read_csv(file_path, parse_dates=[\"time\"],index_col=\"time\")\n",
    "# df.iloc[:,1:] = df.iloc[:,1:].apply(lambda x: pd.to_numeric(x,errors='coerce'),axis=1).copy()\n",
    "# df.to_csv(\"data/2015_removed_marked_data.csv\", index=False)\n",
    "\n",
    "# final data used\n",
    "file_path = \"data/2015_removed_marked_data.csv\"\n",
    "taipai = pd.read_csv(file_path)\n",
    "taipai = taipai.fillna(method='ffill')\n",
    "taipai.head()"
   ]
  },
  {
   "cell_type": "code",
   "execution_count": 3,
   "metadata": {
    "collapsed": true
   },
   "outputs": [],
   "source": [
    "def bin_winds(col,n):\n",
    "    cuts = np.linspace(0, 360, n + 1)\n",
    "    col_binned = pd.cut(col, bins = cuts, labels = False)\n",
    "    return col_binned"
   ]
  },
  {
   "cell_type": "code",
   "execution_count": 4,
   "metadata": {
    "collapsed": false
   },
   "outputs": [],
   "source": [
    "taipai['binned_wind'] = bin_winds(taipai.WIND_DIREC, 8)"
   ]
  },
  {
   "cell_type": "markdown",
   "metadata": {},
   "source": [
    "# MARKOV MODELS!?!?!?! :D\n",
    "Now we're going to move to one station and attempt to fit a nice little markov model...delicious"
   ]
  },
  {
   "cell_type": "code",
   "execution_count": 5,
   "metadata": {
    "collapsed": false
   },
   "outputs": [
    {
     "data": {
      "text/plain": [
       "array(['Banqiao', 'Cailiao', 'Datong', 'Dayuan', 'Guanyin', 'Guting',\n",
       "       'Keelung', 'Linkou', 'Longtan', 'Pingzhen', 'Sanchong', 'Shilin',\n",
       "       'Songshan', 'Tamsui', 'Taoyuan', 'Tucheng', 'Wanhua', 'Wanli',\n",
       "       'Xindian', 'Xinzhuang', 'Xizhi', 'Yangming', 'Yonghe', 'Zhongli',\n",
       "       'Zhongshan'], dtype=object)"
      ]
     },
     "execution_count": 5,
     "metadata": {},
     "output_type": "execute_result"
    }
   ],
   "source": [
    "taipai.station.unique()"
   ]
  },
  {
   "cell_type": "code",
   "execution_count": 6,
   "metadata": {
    "collapsed": false
   },
   "outputs": [
    {
     "data": {
      "text/plain": [
       "Index(['station', 'AMB_TEMP', 'CH4', 'CO', 'NMHC', 'NO', 'NO2', 'NOx', 'O3',\n",
       "       'PH_RAIN', 'PM10', 'PM2.5', 'RAINFALL', 'RAIN_COND', 'RH', 'SO2', 'THC',\n",
       "       'UVB', 'WD_HR', 'WIND_DIREC', 'WIND_SPEED', 'WS_HR', 'binned_wind'],\n",
       "      dtype='object')"
      ]
     },
     "execution_count": 6,
     "metadata": {},
     "output_type": "execute_result"
    }
   ],
   "source": [
    "songshan = taipai.loc[taipai.station == \"Songshan\"]\n",
    "songshan.columns"
   ]
  },
  {
   "cell_type": "markdown",
   "metadata": {},
   "source": [
    "Subset to a smaller sample of the columns"
   ]
  },
  {
   "cell_type": "code",
   "execution_count": 7,
   "metadata": {
    "collapsed": false
   },
   "outputs": [
    {
     "data": {
      "text/html": [
       "<div>\n",
       "<table border=\"1\" class=\"dataframe\">\n",
       "  <thead>\n",
       "    <tr style=\"text-align: right;\">\n",
       "      <th></th>\n",
       "      <th>NO</th>\n",
       "      <th>SO2</th>\n",
       "      <th>O3</th>\n",
       "      <th>binned_wind</th>\n",
       "    </tr>\n",
       "  </thead>\n",
       "  <tbody>\n",
       "    <tr>\n",
       "      <th>104952</th>\n",
       "      <td>2.0</td>\n",
       "      <td>12.0</td>\n",
       "      <td>34.0</td>\n",
       "      <td>1.0</td>\n",
       "    </tr>\n",
       "    <tr>\n",
       "      <th>104953</th>\n",
       "      <td>2.1</td>\n",
       "      <td>10.0</td>\n",
       "      <td>35.0</td>\n",
       "      <td>1.0</td>\n",
       "    </tr>\n",
       "    <tr>\n",
       "      <th>104954</th>\n",
       "      <td>1.8</td>\n",
       "      <td>8.4</td>\n",
       "      <td>38.0</td>\n",
       "      <td>1.0</td>\n",
       "    </tr>\n",
       "    <tr>\n",
       "      <th>104955</th>\n",
       "      <td>0.7</td>\n",
       "      <td>5.8</td>\n",
       "      <td>41.0</td>\n",
       "      <td>1.0</td>\n",
       "    </tr>\n",
       "    <tr>\n",
       "      <th>104956</th>\n",
       "      <td>0.7</td>\n",
       "      <td>4.9</td>\n",
       "      <td>42.0</td>\n",
       "      <td>1.0</td>\n",
       "    </tr>\n",
       "  </tbody>\n",
       "</table>\n",
       "</div>"
      ],
      "text/plain": [
       "         NO   SO2    O3  binned_wind\n",
       "104952  2.0  12.0  34.0          1.0\n",
       "104953  2.1  10.0  35.0          1.0\n",
       "104954  1.8   8.4  38.0          1.0\n",
       "104955  0.7   5.8  41.0          1.0\n",
       "104956  0.7   4.9  42.0          1.0"
      ]
     },
     "execution_count": 7,
     "metadata": {},
     "output_type": "execute_result"
    }
   ],
   "source": [
    "sample_list = [\"NO\",\"SO2\",\"O3\",\"binned_wind\"]\n",
    "subset_songshan = songshan[sample_list]\n",
    "subset_songshan.head()"
   ]
  },
  {
   "cell_type": "markdown",
   "metadata": {},
   "source": [
    "Create the parameters for a markov model"
   ]
  },
  {
   "cell_type": "code",
   "execution_count": 18,
   "metadata": {
    "collapsed": true
   },
   "outputs": [],
   "source": [
    "def compute_wind_trans(bin_col):\n",
    "    \"\"\"\n",
    "    Computes the transition matrix for the winds states; necessary for the MM\n",
    "    \n",
    "    Arguments\n",
    "    ---------\n",
    "    bin_col -- binned wind column; id as 0 indexed integers\n",
    "    \"\"\"\n",
    "    # matrix of state transitions\n",
    "    n = len(bin_col.unique())\n",
    "    transition = np.ones((n,n))\n",
    "    for i, j in zip(bin_col[:-1], bin_col[1:]):\n",
    "        transition[int(i), int(j)] += 1\n",
    "\n",
    "    # row normalize transition matrix\n",
    "    row_sum = transition.sum(axis=1)\n",
    "\n",
    "    return transition / row_sum[:, np.newaxis]\n",
    "\n",
    "def compute_state_means(df, bin_col):\n",
    "    \"\"\"\n",
    "    Compute an array of state means for each of the states; return a matrix of n states by m obserables\n",
    "    \"\"\"\n",
    "    n, m = len(df[bin_col].unique()), df.shape[1] - 1\n",
    "    mean_matrix = np.zeros((n,m))\n",
    "    \n",
    "    for s in np.sort(df[bin_col].unique()):\n",
    "        mean_matrix[int(s),:] = df.loc[df[bin_col] == s, df.columns != bin_col].mean(axis=0)\n",
    "        \n",
    "    return mean_matrix\n",
    "\n",
    "def split_train_test(df, p_train):\n",
    "    \"\"\"\n",
    "    Splits our df into train test...scikit probably has this\n",
    "    \"\"\"\n",
    "    i_test = int(df.shape[0] * p_train)\n",
    "    train, test = df.iloc[:i_test,:], df.iloc[i_test:,:]\n",
    "    return train, test"
   ]
  },
  {
   "cell_type": "markdown",
   "metadata": {},
   "source": [
    "# LETS TRAIN\n",
    "First we shall split into training and test"
   ]
  },
  {
   "cell_type": "code",
   "execution_count": 21,
   "metadata": {
    "collapsed": false
   },
   "outputs": [],
   "source": [
    "train, test = split_train_test(subset_songshan, 0.5)"
   ]
  }
 ],
 "metadata": {
  "kernelspec": {
   "display_name": "Python [Root]",
   "language": "python",
   "name": "Python [Root]"
  },
  "language_info": {
   "codemirror_mode": {
    "name": "ipython",
    "version": 3
   },
   "file_extension": ".py",
   "mimetype": "text/x-python",
   "name": "python",
   "nbconvert_exporter": "python",
   "pygments_lexer": "ipython3",
   "version": "3.5.2"
  }
 },
 "nbformat": 4,
 "nbformat_minor": 2
}
